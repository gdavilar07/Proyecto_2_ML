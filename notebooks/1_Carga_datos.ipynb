{
 "cells": [
  {
   "cell_type": "markdown",
   "metadata": {},
   "source": [
    "# Notebook 1: Carga de Datos\n",
    "\n",
    "Realizamos  la carga del dataset de Kaggle llamado HeartDiseaseTrain-Test, este dataset contiene caracteristicas para desarrollar un modelo de clasificación."
   ]
  },
  {
   "cell_type": "code",
   "execution_count": 2,
   "metadata": {},
   "outputs": [],
   "source": [
    "import pandas as pd"
   ]
  },
  {
   "cell_type": "code",
   "execution_count": 3,
   "metadata": {},
   "outputs": [],
   "source": [
    "# Cargamos el dataset\n",
    "file_path = '../data/raw/HeartDiseaseTrain-Test.csv'\n",
    "data = pd.read_csv(file_path)"
   ]
  },
  {
   "cell_type": "code",
   "execution_count": 3,
   "metadata": {},
   "outputs": [
    {
     "name": "stdout",
     "output_type": "stream",
     "text": [
      "   age     sex chest_pain_type  resting_blood_pressure  cholestoral  \\\n",
      "0   52    Male  Typical angina                     125          212   \n",
      "1   53    Male  Typical angina                     140          203   \n",
      "2   70    Male  Typical angina                     145          174   \n",
      "3   61    Male  Typical angina                     148          203   \n",
      "4   62  Female  Typical angina                     138          294   \n",
      "\n",
      "      fasting_blood_sugar               rest_ecg  Max_heart_rate  \\\n",
      "0    Lower than 120 mg/ml  ST-T wave abnormality             168   \n",
      "1  Greater than 120 mg/ml                 Normal             155   \n",
      "2    Lower than 120 mg/ml  ST-T wave abnormality             125   \n",
      "3    Lower than 120 mg/ml  ST-T wave abnormality             161   \n",
      "4  Greater than 120 mg/ml  ST-T wave abnormality             106   \n",
      "\n",
      "  exercise_induced_angina  oldpeak        slope vessels_colored_by_flourosopy  \\\n",
      "0                      No      1.0  Downsloping                           Two   \n",
      "1                     Yes      3.1    Upsloping                          Zero   \n",
      "2                     Yes      2.6    Upsloping                          Zero   \n",
      "3                      No      0.0  Downsloping                           One   \n",
      "4                      No      1.9         Flat                         Three   \n",
      "\n",
      "         thalassemia  target  \n",
      "0  Reversable Defect       0  \n",
      "1  Reversable Defect       0  \n",
      "2  Reversable Defect       0  \n",
      "3  Reversable Defect       0  \n",
      "4       Fixed Defect       0  \n"
     ]
    }
   ],
   "source": [
    "# Visualización de los datos\n",
    "print(data.head())"
   ]
  },
  {
   "cell_type": "code",
   "execution_count": 4,
   "metadata": {},
   "outputs": [
    {
     "name": "stdout",
     "output_type": "stream",
     "text": [
      "<class 'pandas.core.frame.DataFrame'>\n",
      "RangeIndex: 1025 entries, 0 to 1024\n",
      "Data columns (total 14 columns):\n",
      " #   Column                         Non-Null Count  Dtype  \n",
      "---  ------                         --------------  -----  \n",
      " 0   age                            1025 non-null   int64  \n",
      " 1   sex                            1025 non-null   object \n",
      " 2   chest_pain_type                1025 non-null   object \n",
      " 3   resting_blood_pressure         1025 non-null   int64  \n",
      " 4   cholestoral                    1025 non-null   int64  \n",
      " 5   fasting_blood_sugar            1025 non-null   object \n",
      " 6   rest_ecg                       1025 non-null   object \n",
      " 7   Max_heart_rate                 1025 non-null   int64  \n",
      " 8   exercise_induced_angina        1025 non-null   object \n",
      " 9   oldpeak                        1025 non-null   float64\n",
      " 10  slope                          1025 non-null   object \n",
      " 11  vessels_colored_by_flourosopy  1025 non-null   object \n",
      " 12  thalassemia                    1025 non-null   object \n",
      " 13  target                         1025 non-null   int64  \n",
      "dtypes: float64(1), int64(5), object(8)\n",
      "memory usage: 112.2+ KB\n",
      "None\n"
     ]
    }
   ],
   "source": [
    "print(data.info())"
   ]
  },
  {
   "cell_type": "code",
   "execution_count": 5,
   "metadata": {},
   "outputs": [
    {
     "name": "stdout",
     "output_type": "stream",
     "text": [
      "               age  resting_blood_pressure  cholestoral  Max_heart_rate  \\\n",
      "count  1025.000000             1025.000000   1025.00000     1025.000000   \n",
      "mean     54.434146              131.611707    246.00000      149.114146   \n",
      "std       9.072290               17.516718     51.59251       23.005724   \n",
      "min      29.000000               94.000000    126.00000       71.000000   \n",
      "25%      48.000000              120.000000    211.00000      132.000000   \n",
      "50%      56.000000              130.000000    240.00000      152.000000   \n",
      "75%      61.000000              140.000000    275.00000      166.000000   \n",
      "max      77.000000              200.000000    564.00000      202.000000   \n",
      "\n",
      "           oldpeak       target  \n",
      "count  1025.000000  1025.000000  \n",
      "mean      1.071512     0.513171  \n",
      "std       1.175053     0.500070  \n",
      "min       0.000000     0.000000  \n",
      "25%       0.000000     0.000000  \n",
      "50%       0.800000     1.000000  \n",
      "75%       1.800000     1.000000  \n",
      "max       6.200000     1.000000  \n"
     ]
    }
   ],
   "source": [
    "print(data.describe())"
   ]
  }
 ],
 "metadata": {
  "kernelspec": {
   "display_name": "base",
   "language": "python",
   "name": "python3"
  },
  "language_info": {
   "codemirror_mode": {
    "name": "ipython",
    "version": 3
   },
   "file_extension": ".py",
   "mimetype": "text/x-python",
   "name": "python",
   "nbconvert_exporter": "python",
   "pygments_lexer": "ipython3",
   "version": "3.11.5"
  }
 },
 "nbformat": 4,
 "nbformat_minor": 4
}
