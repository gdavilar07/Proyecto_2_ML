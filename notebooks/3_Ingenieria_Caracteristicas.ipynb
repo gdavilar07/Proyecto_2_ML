{
 "cells": [
  {
   "cell_type": "markdown",
   "metadata": {},
   "source": [
    "# Notebook 3: Ingeniería de Características\n",
    "\n",
    "En este notebook se realiza la ingeniería de características, que incluye:\n",
    "- Imputación de valores faltantes.\n",
    "- Codificación de variables categóricas (One-Hot Encoding).\n",
    "- Estandarización de variables numéricas.\n",
    "- Guardado de los datos preprocesados para su uso posterior."
   ]
  },
  {
   "cell_type": "code",
   "execution_count": 1,
   "metadata": {},
   "outputs": [
    {
     "name": "stdout",
     "output_type": "stream",
     "text": [
      "Datos preprocesados guardados en la carpeta data/processed.\n"
     ]
    }
   ],
   "source": [
    "import pandas as pd\n",
    "from sklearn.model_selection import train_test_split\n",
    "from sklearn.preprocessing import StandardScaler, OneHotEncoder\n",
    "from sklearn.compose import ColumnTransformer\n",
    "import os\n",
    "\n",
    "# Cargar el dataset\n",
    "file_path = '../data/raw/HeartDiseaseTrain-Test.csv'\n",
    "data = pd.read_csv(file_path)\n",
    "\n",
    "# Seleccionar columnas categóricas y numéricas\n",
    "categorical_features = ['chest_pain_type', 'fasting_blood_sugar', 'rest_ecg']\n",
    "numerical_features = ['age', 'resting_blood_pressure', 'cholestoral', 'oldpeak']\n",
    "\n",
    "# Separar características (X) y variable objetivo (y)\n",
    "X = data.drop(columns=['target'])\n",
    "y = data['target']\n",
    "\n",
    "# Dividir los datos en entrenamiento y prueba\n",
    "X_train, X_test, y_train, y_test = train_test_split(X, y, test_size=0.2, random_state=42)\n",
    "\n",
    "# Crear un ColumnTransformer para las transformaciones\n",
    "preprocessor = ColumnTransformer(\n",
    "    transformers=[\n",
    "        ('num', StandardScaler(), numerical_features),\n",
    "        ('cat', OneHotEncoder(handle_unknown='ignore'), categorical_features)\n",
    "    ]\n",
    ")\n",
    "\n",
    "# Ajustar y transformar los datos\n",
    "X_train_transformed = preprocessor.fit_transform(X_train)\n",
    "X_test_transformed = preprocessor.transform(X_test)\n",
    "\n",
    "# Convertir X_train y X_test a DataFrames\n",
    "encoded_columns = preprocessor.named_transformers_['cat'].get_feature_names_out(categorical_features)\n",
    "transformed_columns = list(numerical_features) + list(encoded_columns)\n",
    "X_train_df = pd.DataFrame(X_train_transformed, columns=transformed_columns)\n",
    "X_test_df = pd.DataFrame(X_test_transformed, columns=transformed_columns)\n",
    "\n",
    "# Guardar los datos preprocesados\n",
    "os.makedirs('../data/processed', exist_ok=True)\n",
    "X_train_df.to_csv('../data/processed/X_train_transformed.csv', index=False)\n",
    "X_test_df.to_csv('../data/processed/X_test_transformed.csv', index=False)\n",
    "y_train.to_csv('../data/processed/y_train.csv', index=False, header=False)\n",
    "y_test.to_csv('../data/processed/y_test.csv', index=False, header=False)\n",
    "\n",
    "print('Datos preprocesados guardados en la carpeta data/processed.')"
   ]
  }
 ],
 "metadata": {
  "kernelspec": {
   "display_name": "base",
   "language": "python",
   "name": "python3"
  },
  "language_info": {
   "codemirror_mode": {
    "name": "ipython",
    "version": 3
   },
   "file_extension": ".py",
   "mimetype": "text/x-python",
   "name": "python",
   "nbconvert_exporter": "python",
   "pygments_lexer": "ipython3",
   "version": "3.11.5"
  }
 },
 "nbformat": 4,
 "nbformat_minor": 4
}
