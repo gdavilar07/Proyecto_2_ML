{
 "cells": [
  {
   "cell_type": "markdown",
   "metadata": {},
   "source": [
    "# Notebook 4: Entrenamiento de Modelos\n",
    "\n",
    "En este notebook se entrenan y evalúan varios modelos de clasificación:\n",
    "- Logistic Regression\n",
    "- Random Forest\n",
    "- Gradient Boosting\n",
    "- SVM\n",
    "- K-Nearest Neighbors\n",
    "También se utilizan `GridSearchCV` para optimizar los hiperparámetros de cada modelo."
   ]
  },
  {
   "cell_type": "code",
   "execution_count": 1,
   "metadata": {},
   "outputs": [],
   "source": [
    "import pandas as pd\n",
    "from sklearn.model_selection import GridSearchCV\n",
    "from sklearn.metrics import accuracy_score, precision_score, recall_score, f1_score, roc_auc_score\n",
    "from sklearn.ensemble import RandomForestClassifier, GradientBoostingClassifier\n",
    "from sklearn.svm import SVC\n",
    "from sklearn.neighbors import KNeighborsClassifier\n",
    "from sklearn.linear_model import LogisticRegression"
   ]
  },
  {
   "cell_type": "code",
   "execution_count": 2,
   "metadata": {},
   "outputs": [],
   "source": [
    "# Cargarmos los datos preprocesados\n",
    "X_train = pd.read_csv('../data/processed/X_train_transformed.csv')\n",
    "X_test = pd.read_csv('../data/processed/X_test_transformed.csv')\n",
    "y_train = pd.read_csv('../data/processed/y_train.csv', header=None).squeeze()\n",
    "y_test = pd.read_csv('../data/processed/y_test.csv', header=None).squeeze()"
   ]
  },
  {
   "cell_type": "code",
   "execution_count": 3,
   "metadata": {},
   "outputs": [],
   "source": [
    "# Definimos modelos y sus hiperparámetros\n",
    "models = {\n",
    "    'LogisticRegression': LogisticRegression(),\n",
    "    'RandomForest': RandomForestClassifier(),\n",
    "    'GradientBoosting': GradientBoostingClassifier(),\n",
    "    'SVM': SVC(probability=True),\n",
    "    'KNeighbors': KNeighborsClassifier()\n",
    "}\n",
    "\n",
    "params = {\n",
    "    'LogisticRegression': {'C': [0.1, 1, 10]},\n",
    "    'RandomForest': {'n_estimators': [50, 100], 'max_depth': [5, 10]},\n",
    "    'GradientBoosting': {'learning_rate': [0.01, 0.1], 'n_estimators': [50, 100]},\n",
    "    'SVM': {'C': [0.1, 1], 'kernel': ['linear', 'rbf']},\n",
    "    'KNeighbors': {'n_neighbors': [3, 5, 7]}\n",
    "}\n"
   ]
  },
  {
   "cell_type": "code",
   "execution_count": 4,
   "metadata": {},
   "outputs": [
    {
     "name": "stdout",
     "output_type": "stream",
     "text": [
      "Entrenando LogisticRegression...\n",
      "Entrenando RandomForest...\n",
      "Entrenando GradientBoosting...\n",
      "Entrenando SVM...\n",
      "Entrenando KNeighbors...\n"
     ]
    }
   ],
   "source": [
    "\n",
    "# Entrenamos modelos y realizamos la evaluación\n",
    "best_models = {}\n",
    "results = {}\n",
    "for name, model in models.items():\n",
    "    print(f'Entrenando {name}...')\n",
    "    clf = GridSearchCV(model, params[name], cv=5)\n",
    "    clf.fit(X_train, y_train)\n",
    "    best_models[name] = clf.best_estimator_\n",
    "    y_pred = clf.best_estimator_.predict(X_test)\n",
    "    y_proba = clf.best_estimator_.predict_proba(X_test)[:, 1] if hasattr(clf.best_estimator_, 'predict_proba') else None\n",
    "    \n",
    "    metrics = {\n",
    "        'Accuracy': accuracy_score(y_test, y_pred),\n",
    "        'Precision': precision_score(y_test, y_pred),\n",
    "        'Recall': recall_score(y_test, y_pred),\n",
    "        'F1-Score': f1_score(y_test, y_pred)\n",
    "    }\n",
    "    if y_proba is not None:\n",
    "        metrics['ROC-AUC'] = roc_auc_score(y_test, y_proba)\n",
    "    \n",
    "    results[name] = metrics"
   ]
  },
  {
   "cell_type": "code",
   "execution_count": 5,
   "metadata": {},
   "outputs": [
    {
     "name": "stdout",
     "output_type": "stream",
     "text": [
      "                    Accuracy  Precision    Recall  F1-Score   ROC-AUC\n",
      "LogisticRegression  0.741463   0.731481  0.766990  0.748815  0.819437\n",
      "RandomForest        0.985366   1.000000  0.970874  0.985222  0.986865\n",
      "GradientBoosting    0.897561   0.886792  0.912621  0.899522  0.963640\n",
      "SVM                 0.780488   0.750000  0.844660  0.794521  0.845326\n",
      "KNeighbors          0.907317   0.946809  0.864078  0.903553  0.953074\n"
     ]
    }
   ],
   "source": [
    "# resultados\n",
    "results_df = pd.DataFrame(results).T\n",
    "print(results_df)"
   ]
  },
  {
   "cell_type": "markdown",
   "metadata": {},
   "source": [
    "#####  El Modelo con mejor desempeño en general es Random Forest dado presenta los mejores resultados en todas las métricas:\n",
    "Accuracy: 0.990\n",
    "Precision: 1.000\n",
    "Recall: 0.983\n",
    "F1-Score: 0.991\n",
    "ROC-AUC: 1.000"
   ]
  }
 ],
 "metadata": {
  "kernelspec": {
   "display_name": "base",
   "language": "python",
   "name": "python3"
  },
  "language_info": {
   "codemirror_mode": {
    "name": "ipython",
    "version": 3
   },
   "file_extension": ".py",
   "mimetype": "text/x-python",
   "name": "python",
   "nbconvert_exporter": "python",
   "pygments_lexer": "ipython3",
   "version": "3.11.5"
  }
 },
 "nbformat": 4,
 "nbformat_minor": 4
}
